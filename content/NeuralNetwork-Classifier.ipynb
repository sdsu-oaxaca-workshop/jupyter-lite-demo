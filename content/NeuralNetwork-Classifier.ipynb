{
  "metadata": {
    "kernelspec": {
      "name": "python",
      "display_name": "Python (Pyodide)",
      "language": "python"
    },
    "language_info": {
      "codemirror_mode": {
        "name": "python",
        "version": 3
      },
      "file_extension": ".py",
      "mimetype": "text/x-python",
      "name": "python",
      "nbconvert_exporter": "python",
      "pygments_lexer": "ipython3",
      "version": "3.8"
    }
  },
  "nbformat_minor": 5,
  "nbformat": 4,
  "cells": [
    {
      "id": "f92c1776-383c-4b46-9a41-baf42871cf5b",
      "cell_type": "code",
      "source": "import piplite",
      "metadata": {
        "trusted": true
      },
      "outputs": [],
      "execution_count": null
    },
    {
      "id": "23226028-6c05-46da-9725-59889881b495",
      "cell_type": "code",
      "source": "await piplite.install(\"numpy\")\nawait piplite.install(\"matplotlib\")\nawait piplite.install(\"scikit-learn\")",
      "metadata": {
        "trusted": true
      },
      "outputs": [],
      "execution_count": null
    },
    {
      "id": "c8b53360-e09a-448a-b542-11e0a31c3ffa",
      "cell_type": "code",
      "source": "import numpy as np\nimport matplotlib.pyplot as plt\n\nfrom sklearn.datasets import make_moons\nfrom sklearn.model_selection import train_test_split\nfrom sklearn.neural_network import MLPClassifier\nfrom sklearn.preprocessing import StandardScaler\nfrom sklearn.pipeline import Pipeline\nfrom sklearn.metrics import accuracy_score, ConfusionMatrixDisplay",
      "metadata": {
        "trusted": true
      },
      "outputs": [],
      "execution_count": null
    },
    {
      "id": "c2e58f9f-0464-486e-ad39-59c400633942",
      "cell_type": "code",
      "source": "# make_moons makes two interleaving half-circles: simple but not too simple\nX, y = make_moons(n_samples=600, noise=0.25, random_state=42)\n\n# Train/test split: model learns from \"train\", we evaluate on \"test\"\nX_train, X_test, y_train, y_test = train_test_split(\n    X, y, test_size=0.25, random_state=42\n)\n\n# Quick look\nplt.figure()\nplt.scatter(X[:,0], X[:,1], c=y, edgecolor=\"k\")\nplt.title(\"Our toy dataset: two half-moons\")\nplt.xlabel(\"Feature 1\")\nplt.ylabel(\"Feature 2\")\nplt.show()",
      "metadata": {
        "trusted": true
      },
      "outputs": [],
      "execution_count": null
    },
    {
      "id": "3a8f0d20-99da-4375-9a31-68dde8436679",
      "cell_type": "code",
      "source": "model = Pipeline([\n    (\"scale\", StandardScaler()),\n    (\"nn\", MLPClassifier(\n        hidden_layer_sizes=(8,),\n        activation=\"relu\",\n        random_state=42,\n        max_iter=500\n    ))\n])\n\nmodel.fit(X_train, y_train)",
      "metadata": {
        "trusted": true
      },
      "outputs": [],
      "execution_count": null
    },
    {
      "id": "1588ee23-1463-4dc8-bb2d-88a089e41ce8",
      "cell_type": "code",
      "source": "y_pred = model.predict(X_test)\nacc = accuracy_score(y_test, y_pred)\n\nprint(f\"Accuracy on test set: {acc:.3f}\")\n\nConfusionMatrixDisplay.from_predictions(y_test, y_pred)\nplt.title(\"Confusion Matrix (how often we got it right/wrong)\")\nplt.show()",
      "metadata": {
        "trusted": true
      },
      "outputs": [],
      "execution_count": null
    },
    {
      "id": "743c0e20-d0c7-4bfe-8054-e03e7b80c9e2",
      "cell_type": "code",
      "source": "def plot_decision_boundary(clf, X, y, title=\"Decision boundary\"):\n    # Create a grid of points that covers the data\n    x_min, x_max = X[:,0].min() - 0.5, X[:,0].max() + 0.5\n    y_min, y_max = X[:,1].min() - 0.5, X[:,1].max() + 0.5\n    xx, yy = np.meshgrid(\n        np.linspace(x_min, x_max, 400),\n        np.linspace(y_min, y_max, 400)\n    )\n    grid = np.c_[xx.ravel(), yy.ravel()]\n    Z = clf.predict(grid).reshape(xx.shape)\n\n    plt.figure()\n    plt.contourf(xx, yy, Z, alpha=0.3)  # background regions\n    plt.scatter(X[:,0], X[:,1], c=y, edgecolor=\"k\")  # actual points\n    plt.title(title)\n    plt.xlabel(\"Feature 1\")\n    plt.ylabel(\"Feature 2\")\n    plt.show()\n\nplot_decision_boundary(model, X, y, title=\"Neural network decision boundary\")",
      "metadata": {
        "trusted": true
      },
      "outputs": [],
      "execution_count": null
    },
    {
      "id": "088641a8-01f3-4373-aed2-4fe70d10dd90",
      "cell_type": "code",
      "source": "def train_and_plot(hidden=(4,), lr=0.001, reg=0.0001, title_extra=\"\"):\n    clf = Pipeline([\n        (\"scale\", StandardScaler()),\n        (\"nn\", MLPClassifier(\n            hidden_layer_sizes=hidden,\n            activation=\"relu\",\n            learning_rate_init=lr,\n            alpha=reg,              # L2 regularization (keeps weights small)\n            random_state=42,\n            max_iter=500\n        ))\n    ])\n    clf.fit(X_train, y_train)\n    y_pred = clf.predict(X_test)\n    acc = accuracy_score(y_test, y_pred)\n    plot_decision_boundary(clf, X, y, title=f\"Hidden={hidden}, lr={lr}, reg={reg} | Acc={acc:.3f} {title_extra}\")\n\n# Try a few configurations:\ntrain_and_plot(hidden=(3,), lr=0.01, reg=0.0001, title_extra=\"(smaller model, faster learning)\")\ntrain_and_plot(hidden=(16,), lr=0.001, reg=0.0001, title_extra=\"(larger model)\")\ntrain_and_plot(hidden=(8, 8), lr=0.001, reg=0.0001, title_extra=\"(two hidden layers)\")",
      "metadata": {
        "trusted": true
      },
      "outputs": [],
      "execution_count": null
    },
    {
      "id": "60876359-64b2-4449-92ed-552a5fd23283",
      "cell_type": "code",
      "source": "",
      "metadata": {
        "trusted": true
      },
      "outputs": [],
      "execution_count": null
    }
  ]
}