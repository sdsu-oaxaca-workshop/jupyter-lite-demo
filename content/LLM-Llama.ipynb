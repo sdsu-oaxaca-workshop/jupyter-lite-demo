{
  "metadata": {
    "kernelspec": {
      "name": "python",
      "display_name": "Python (Pyodide)",
      "language": "python"
    },
    "language_info": {
      "codemirror_mode": {
        "name": "python",
        "version": 3
      },
      "file_extension": ".py",
      "mimetype": "text/x-python",
      "name": "python",
      "nbconvert_exporter": "python",
      "pygments_lexer": "ipython3",
      "version": "3.8"
    }
  },
  "nbformat_minor": 5,
  "nbformat": 4,
  "cells": [
    {
      "id": "a9945d26-f6c2-4343-a7ee-da3e354daf6d",
      "cell_type": "code",
      "source": "import requests",
      "metadata": {
        "trusted": true
      },
      "outputs": [],
      "execution_count": null
    },
    {
      "id": "345044c4-e009-4fb6-9531-75e689d8c141",
      "cell_type": "code",
      "source": "API_URL = \"https://sdsu-rci-owui.nrp-nautilus.io/api/chat/completions\"\nAPI_KEY = \"xxxx\" # Replace with API key\n\n# Define your request payload\npayload = {\n    \"model\": \"llama3.1:70b\",  # Replace with the model name your endpoint exposes\n    \"messages\": [\n        {\"role\": \"system\", \"content\": \"You are a helpful assistant.\"},\n        {\"role\": \"user\", \"content\": \"Explain how neural networks learn.\"}\n    ],\n    \"temperature\": 0.7,\n    \"max_tokens\": 200\n}\n\n# Optional headers (remove Authorization if not required)\nheaders = {\n    \"Content-Type\": \"application/json\",\n    \"Authorization\": f\"Bearer {API_KEY}\"\n}\n\n# Send the request\nresponse = requests.post(API_URL, headers=headers, json=payload)\n\n# Handle the response\nif response.status_code == 200:\n    data = response.json()\n    print(\"Response:\", data[\"choices\"][0][\"message\"][\"content\"])\nelse:\n    print(\"Error:\", response.status_code, response.text)\n",
      "metadata": {
        "trusted": true
      },
      "outputs": [],
      "execution_count": null
    }
  ]
}